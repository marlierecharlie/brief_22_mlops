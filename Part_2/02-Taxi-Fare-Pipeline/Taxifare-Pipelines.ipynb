{
 "cells": [
  {
   "cell_type": "markdown",
   "metadata": {},
   "source": [
    "# Refactor the Taxi Fare Prediction Problem with a Pipeline"
   ]
  },
  {
   "cell_type": "markdown",
   "metadata": {},
   "source": [
    "We will refactor the model you built for the Taxi Fare Prediction Problem using:\n",
    "- Custom encoders for the distance and time features\n",
    "- OneHot Encoder in order to encode the hour and day of week features\n",
    "- SimpleImputer to fill missing values\n",
    "- A simple linear regression\n",
    "- A pipeline to put all together\n",
    "\n",
    "Then: \n",
    "- train this pipeline\n",
    "- apply the pipeline on test data\n",
    "- generate predictions and submit these new predictions to Kaggle"
   ]
  },
  {
   "cell_type": "code",
   "execution_count": 2,
   "metadata": {},
   "outputs": [],
   "source": [
    "import pandas as pd"
   ]
  },
  {
   "cell_type": "markdown",
   "metadata": {},
   "source": [
    "## First pipeline"
   ]
  },
  {
   "cell_type": "code",
   "execution_count": 4,
   "metadata": {},
   "outputs": [
    {
     "data": {
      "text/html": [
       "<div>\n",
       "<style scoped>\n",
       "    .dataframe tbody tr th:only-of-type {\n",
       "        vertical-align: middle;\n",
       "    }\n",
       "\n",
       "    .dataframe tbody tr th {\n",
       "        vertical-align: top;\n",
       "    }\n",
       "\n",
       "    .dataframe thead th {\n",
       "        text-align: right;\n",
       "    }\n",
       "</style>\n",
       "<table border=\"1\" class=\"dataframe\">\n",
       "  <thead>\n",
       "    <tr style=\"text-align: right;\">\n",
       "      <th></th>\n",
       "      <th>key</th>\n",
       "      <th>fare_amount</th>\n",
       "      <th>pickup_datetime</th>\n",
       "      <th>pickup_longitude</th>\n",
       "      <th>pickup_latitude</th>\n",
       "      <th>dropoff_longitude</th>\n",
       "      <th>dropoff_latitude</th>\n",
       "      <th>passenger_count</th>\n",
       "    </tr>\n",
       "  </thead>\n",
       "  <tbody>\n",
       "    <tr>\n",
       "      <th>0</th>\n",
       "      <td>2009-06-15 17:26:21.0000001</td>\n",
       "      <td>4.5</td>\n",
       "      <td>2009-06-15 17:26:21 UTC</td>\n",
       "      <td>-73.844311</td>\n",
       "      <td>40.721319</td>\n",
       "      <td>-73.841610</td>\n",
       "      <td>40.712278</td>\n",
       "      <td>1</td>\n",
       "    </tr>\n",
       "    <tr>\n",
       "      <th>1</th>\n",
       "      <td>2010-01-05 16:52:16.0000002</td>\n",
       "      <td>16.9</td>\n",
       "      <td>2010-01-05 16:52:16 UTC</td>\n",
       "      <td>-74.016048</td>\n",
       "      <td>40.711303</td>\n",
       "      <td>-73.979268</td>\n",
       "      <td>40.782004</td>\n",
       "      <td>1</td>\n",
       "    </tr>\n",
       "    <tr>\n",
       "      <th>2</th>\n",
       "      <td>2011-08-18 00:35:00.00000049</td>\n",
       "      <td>5.7</td>\n",
       "      <td>2011-08-18 00:35:00 UTC</td>\n",
       "      <td>-73.982738</td>\n",
       "      <td>40.761270</td>\n",
       "      <td>-73.991242</td>\n",
       "      <td>40.750562</td>\n",
       "      <td>2</td>\n",
       "    </tr>\n",
       "    <tr>\n",
       "      <th>3</th>\n",
       "      <td>2012-04-21 04:30:42.0000001</td>\n",
       "      <td>7.7</td>\n",
       "      <td>2012-04-21 04:30:42 UTC</td>\n",
       "      <td>-73.987130</td>\n",
       "      <td>40.733143</td>\n",
       "      <td>-73.991567</td>\n",
       "      <td>40.758092</td>\n",
       "      <td>1</td>\n",
       "    </tr>\n",
       "    <tr>\n",
       "      <th>4</th>\n",
       "      <td>2010-03-09 07:51:00.000000135</td>\n",
       "      <td>5.3</td>\n",
       "      <td>2010-03-09 07:51:00 UTC</td>\n",
       "      <td>-73.968095</td>\n",
       "      <td>40.768008</td>\n",
       "      <td>-73.956655</td>\n",
       "      <td>40.783762</td>\n",
       "      <td>1</td>\n",
       "    </tr>\n",
       "  </tbody>\n",
       "</table>\n",
       "</div>"
      ],
      "text/plain": [
       "                             key  fare_amount          pickup_datetime  \\\n",
       "0    2009-06-15 17:26:21.0000001          4.5  2009-06-15 17:26:21 UTC   \n",
       "1    2010-01-05 16:52:16.0000002         16.9  2010-01-05 16:52:16 UTC   \n",
       "2   2011-08-18 00:35:00.00000049          5.7  2011-08-18 00:35:00 UTC   \n",
       "3    2012-04-21 04:30:42.0000001          7.7  2012-04-21 04:30:42 UTC   \n",
       "4  2010-03-09 07:51:00.000000135          5.3  2010-03-09 07:51:00 UTC   \n",
       "\n",
       "   pickup_longitude  pickup_latitude  dropoff_longitude  dropoff_latitude  \\\n",
       "0        -73.844311        40.721319         -73.841610         40.712278   \n",
       "1        -74.016048        40.711303         -73.979268         40.782004   \n",
       "2        -73.982738        40.761270         -73.991242         40.750562   \n",
       "3        -73.987130        40.733143         -73.991567         40.758092   \n",
       "4        -73.968095        40.768008         -73.956655         40.783762   \n",
       "\n",
       "   passenger_count  \n",
       "0                1  \n",
       "1                1  \n",
       "2                2  \n",
       "3                1  \n",
       "4                1  "
      ]
     },
     "execution_count": 4,
     "metadata": {},
     "output_type": "execute_result"
    }
   ],
   "source": [
    "# import the train dataset ( 1000 first rows)\n",
    "df = pd.read_csv('data/train.csv',nrows=1_000)\n",
    "df.head()"
   ]
  },
  {
   "cell_type": "code",
   "execution_count": 7,
   "metadata": {},
   "outputs": [
    {
     "data": {
      "text/html": [
       "<div>\n",
       "<style scoped>\n",
       "    .dataframe tbody tr th:only-of-type {\n",
       "        vertical-align: middle;\n",
       "    }\n",
       "\n",
       "    .dataframe tbody tr th {\n",
       "        vertical-align: top;\n",
       "    }\n",
       "\n",
       "    .dataframe thead th {\n",
       "        text-align: right;\n",
       "    }\n",
       "</style>\n",
       "<table border=\"1\" class=\"dataframe\">\n",
       "  <thead>\n",
       "    <tr style=\"text-align: right;\">\n",
       "      <th></th>\n",
       "      <th>pickup_datetime</th>\n",
       "      <th>pickup_longitude</th>\n",
       "      <th>pickup_latitude</th>\n",
       "      <th>dropoff_longitude</th>\n",
       "      <th>dropoff_latitude</th>\n",
       "      <th>passenger_count</th>\n",
       "    </tr>\n",
       "  </thead>\n",
       "  <tbody>\n",
       "    <tr>\n",
       "      <th>0</th>\n",
       "      <td>2009-06-15 17:26:21 UTC</td>\n",
       "      <td>-73.844311</td>\n",
       "      <td>40.721319</td>\n",
       "      <td>-73.841610</td>\n",
       "      <td>40.712278</td>\n",
       "      <td>1</td>\n",
       "    </tr>\n",
       "    <tr>\n",
       "      <th>1</th>\n",
       "      <td>2010-01-05 16:52:16 UTC</td>\n",
       "      <td>-74.016048</td>\n",
       "      <td>40.711303</td>\n",
       "      <td>-73.979268</td>\n",
       "      <td>40.782004</td>\n",
       "      <td>1</td>\n",
       "    </tr>\n",
       "    <tr>\n",
       "      <th>2</th>\n",
       "      <td>2011-08-18 00:35:00 UTC</td>\n",
       "      <td>-73.982738</td>\n",
       "      <td>40.761270</td>\n",
       "      <td>-73.991242</td>\n",
       "      <td>40.750562</td>\n",
       "      <td>2</td>\n",
       "    </tr>\n",
       "    <tr>\n",
       "      <th>3</th>\n",
       "      <td>2012-04-21 04:30:42 UTC</td>\n",
       "      <td>-73.987130</td>\n",
       "      <td>40.733143</td>\n",
       "      <td>-73.991567</td>\n",
       "      <td>40.758092</td>\n",
       "      <td>1</td>\n",
       "    </tr>\n",
       "    <tr>\n",
       "      <th>4</th>\n",
       "      <td>2010-03-09 07:51:00 UTC</td>\n",
       "      <td>-73.968095</td>\n",
       "      <td>40.768008</td>\n",
       "      <td>-73.956655</td>\n",
       "      <td>40.783762</td>\n",
       "      <td>1</td>\n",
       "    </tr>\n",
       "  </tbody>\n",
       "</table>\n",
       "</div>"
      ],
      "text/plain": [
       "           pickup_datetime  pickup_longitude  pickup_latitude  \\\n",
       "0  2009-06-15 17:26:21 UTC        -73.844311        40.721319   \n",
       "1  2010-01-05 16:52:16 UTC        -74.016048        40.711303   \n",
       "2  2011-08-18 00:35:00 UTC        -73.982738        40.761270   \n",
       "3  2012-04-21 04:30:42 UTC        -73.987130        40.733143   \n",
       "4  2010-03-09 07:51:00 UTC        -73.968095        40.768008   \n",
       "\n",
       "   dropoff_longitude  dropoff_latitude  passenger_count  \n",
       "0         -73.841610         40.712278                1  \n",
       "1         -73.979268         40.782004                1  \n",
       "2         -73.991242         40.750562                2  \n",
       "3         -73.991567         40.758092                1  \n",
       "4         -73.956655         40.783762                1  "
      ]
     },
     "execution_count": 7,
     "metadata": {},
     "output_type": "execute_result"
    }
   ],
   "source": [
    "# prepare X and y\n",
    "X = df[['pickup_datetime', 'pickup_longitude',\n",
    "       'pickup_latitude', 'dropoff_longitude', 'dropoff_latitude',\n",
    "       'passenger_count']]\n",
    "y= df[\"fare_amount\"]\n",
    "\n",
    "X.head()"
   ]
  },
  {
   "cell_type": "code",
   "execution_count": 8,
   "metadata": {},
   "outputs": [],
   "source": [
    "# Hold out ( train and test dplit )\n",
    "from sklearn.model_selection import train_test_split\n",
    "\n",
    "X_train, X_test, y_train, y_test = train_test_split(X, y, test_size=0.33, random_state=42)"
   ]
  },
  {
   "cell_type": "code",
   "execution_count": 9,
   "metadata": {},
   "outputs": [
    {
     "data": {
      "text/html": [
       "<div>\n",
       "<style scoped>\n",
       "    .dataframe tbody tr th:only-of-type {\n",
       "        vertical-align: middle;\n",
       "    }\n",
       "\n",
       "    .dataframe tbody tr th {\n",
       "        vertical-align: top;\n",
       "    }\n",
       "\n",
       "    .dataframe thead th {\n",
       "        text-align: right;\n",
       "    }\n",
       "</style>\n",
       "<table border=\"1\" class=\"dataframe\">\n",
       "  <thead>\n",
       "    <tr style=\"text-align: right;\">\n",
       "      <th></th>\n",
       "      <th>pickup_datetime</th>\n",
       "      <th>pickup_longitude</th>\n",
       "      <th>pickup_latitude</th>\n",
       "      <th>dropoff_longitude</th>\n",
       "      <th>dropoff_latitude</th>\n",
       "      <th>passenger_count</th>\n",
       "    </tr>\n",
       "  </thead>\n",
       "  <tbody>\n",
       "    <tr>\n",
       "      <th>703</th>\n",
       "      <td>2012-05-21 11:37:42 UTC</td>\n",
       "      <td>-73.992170</td>\n",
       "      <td>40.764320</td>\n",
       "      <td>-73.966214</td>\n",
       "      <td>40.762562</td>\n",
       "      <td>1</td>\n",
       "    </tr>\n",
       "    <tr>\n",
       "      <th>311</th>\n",
       "      <td>2009-03-13 17:43:18 UTC</td>\n",
       "      <td>-73.977984</td>\n",
       "      <td>40.754546</td>\n",
       "      <td>-73.958947</td>\n",
       "      <td>40.779093</td>\n",
       "      <td>4</td>\n",
       "    </tr>\n",
       "    <tr>\n",
       "      <th>722</th>\n",
       "      <td>2010-10-31 01:12:41 UTC</td>\n",
       "      <td>-74.005771</td>\n",
       "      <td>40.736004</td>\n",
       "      <td>-73.989396</td>\n",
       "      <td>40.718013</td>\n",
       "      <td>1</td>\n",
       "    </tr>\n",
       "    <tr>\n",
       "      <th>629</th>\n",
       "      <td>2014-08-05 16:40:00 UTC</td>\n",
       "      <td>-73.954767</td>\n",
       "      <td>40.783890</td>\n",
       "      <td>-73.958958</td>\n",
       "      <td>40.780905</td>\n",
       "      <td>1</td>\n",
       "    </tr>\n",
       "    <tr>\n",
       "      <th>0</th>\n",
       "      <td>2009-06-15 17:26:21 UTC</td>\n",
       "      <td>-73.844311</td>\n",
       "      <td>40.721319</td>\n",
       "      <td>-73.841610</td>\n",
       "      <td>40.712278</td>\n",
       "      <td>1</td>\n",
       "    </tr>\n",
       "  </tbody>\n",
       "</table>\n",
       "</div>"
      ],
      "text/plain": [
       "             pickup_datetime  pickup_longitude  pickup_latitude  \\\n",
       "703  2012-05-21 11:37:42 UTC        -73.992170        40.764320   \n",
       "311  2009-03-13 17:43:18 UTC        -73.977984        40.754546   \n",
       "722  2010-10-31 01:12:41 UTC        -74.005771        40.736004   \n",
       "629  2014-08-05 16:40:00 UTC        -73.954767        40.783890   \n",
       "0    2009-06-15 17:26:21 UTC        -73.844311        40.721319   \n",
       "\n",
       "     dropoff_longitude  dropoff_latitude  passenger_count  \n",
       "703         -73.966214         40.762562                1  \n",
       "311         -73.958947         40.779093                4  \n",
       "722         -73.989396         40.718013                1  \n",
       "629         -73.958958         40.780905                1  \n",
       "0           -73.841610         40.712278                1  "
      ]
     },
     "execution_count": 9,
     "metadata": {},
     "output_type": "execute_result"
    }
   ],
   "source": [
    "X_train.head()"
   ]
  },
  {
   "cell_type": "markdown",
   "metadata": {},
   "source": [
    "### Custom transformers"
   ]
  },
  {
   "cell_type": "markdown",
   "metadata": {},
   "source": [
    "With the Taxi Fare Prediction Challenge data, using `BaseEstimator` and `TransformerMixin`, implement:\n",
    "\n",
    "- a transformer that computes the haversine distance between the pickup and dropoff locations\n",
    "- a custom encoder that extracts the time features from `pickup_datetime`"
   ]
  },
  {
   "cell_type": "code",
   "execution_count": 10,
   "metadata": {},
   "outputs": [],
   "source": [
    "import numpy as np\n",
    "\n",
    "def haversine_vectorized(df, \n",
    "                         start_lat=\"pickup_latitude\",\n",
    "                         start_lon=\"pickup_longitude\",\n",
    "                         end_lat=\"dropoff_latitude\",\n",
    "                         end_lon=\"dropoff_longitude\"):\n",
    "    \"\"\" \n",
    "        Calculates the great circle distance between two points \n",
    "        on the earth (specified in decimal degrees).\n",
    "        Vectorized version of the haversine distance for pandas df.\n",
    "        Computes the distance in kms.\n",
    "    \"\"\"\n",
    "\n",
    "    lat_1_rad, lon_1_rad = np.radians(df[start_lat].astype(float)), np.radians(df[start_lon].astype(float))\n",
    "    lat_2_rad, lon_2_rad = np.radians(df[end_lat].astype(float)), np.radians(df[end_lon].astype(float))\n",
    "    dlon = lon_2_rad - lon_1_rad\n",
    "    dlat = lat_2_rad - lat_1_rad\n",
    "\n",
    "    a = np.sin(dlat / 2.0) ** 2 + np.cos(lat_1_rad) * np.cos(lat_2_rad) * np.sin(dlon / 2.0) ** 2\n",
    "    c = 2 * np.arcsin(np.sqrt(a))\n",
    "    return 6371 * c"
   ]
  },
  {
   "cell_type": "code",
   "execution_count": 24,
   "metadata": {},
   "outputs": [],
   "source": [
    "# create a DistanceTransformer\n",
    "from sklearn.base import BaseEstimator, TransformerMixin\n",
    "\n",
    "class DistanceTransformer(BaseEstimator, TransformerMixin):\n",
    "    \"\"\"\n",
    "        Computes the haversine distance between two GPS points.\n",
    "        Returns a copy of the DataFrame X with only one column: 'distance'.\n",
    "    \"\"\"\n",
    "\n",
    "    def __init__(self,\n",
    "                 start_lat=\"pickup_latitude\",\n",
    "                 start_lon=\"pickup_longitude\",\n",
    "                 end_lat=\"dropoff_latitude\",\n",
    "                 end_lon=\"dropoff_longitude\"):\n",
    "        # A COMPPLETER\n",
    "        self.start_lat=start_lat\n",
    "        self.start_lon=start_lon\n",
    "        self.end_lat=end_lat\n",
    "        self.end_lon=end_lon\n",
    "        \n",
    "    def fit(self, X, y=None):\n",
    "        # A COMPLETER\n",
    "        return self\n",
    "\n",
    "    def transform(self, X, y=None):\n",
    "        X_= X.copy()\n",
    "        \n",
    "        X_['distance'] = haversine_vectorized(df, \n",
    "                                         self.start_lat,\n",
    "                                         self.start_lon,\n",
    "                                         self.end_lat,\n",
    "                                         self.end_lon)\n",
    "        return X_[['distance']]"
   ]
  },
  {
   "cell_type": "code",
   "execution_count": 27,
   "metadata": {},
   "outputs": [
    {
     "data": {
      "text/html": [
       "<div>\n",
       "<style scoped>\n",
       "    .dataframe tbody tr th:only-of-type {\n",
       "        vertical-align: middle;\n",
       "    }\n",
       "\n",
       "    .dataframe tbody tr th {\n",
       "        vertical-align: top;\n",
       "    }\n",
       "\n",
       "    .dataframe thead th {\n",
       "        text-align: right;\n",
       "    }\n",
       "</style>\n",
       "<table border=\"1\" class=\"dataframe\">\n",
       "  <thead>\n",
       "    <tr style=\"text-align: right;\">\n",
       "      <th></th>\n",
       "      <th>distance</th>\n",
       "    </tr>\n",
       "  </thead>\n",
       "  <tbody>\n",
       "    <tr>\n",
       "      <th>703</th>\n",
       "      <td>2.194746</td>\n",
       "    </tr>\n",
       "    <tr>\n",
       "      <th>311</th>\n",
       "      <td>3.165517</td>\n",
       "    </tr>\n",
       "    <tr>\n",
       "      <th>722</th>\n",
       "      <td>2.430238</td>\n",
       "    </tr>\n",
       "    <tr>\n",
       "      <th>629</th>\n",
       "      <td>0.484442</td>\n",
       "    </tr>\n",
       "    <tr>\n",
       "      <th>0</th>\n",
       "      <td>1.030764</td>\n",
       "    </tr>\n",
       "  </tbody>\n",
       "</table>\n",
       "</div>"
      ],
      "text/plain": [
       "     distance\n",
       "703  2.194746\n",
       "311  3.165517\n",
       "722  2.430238\n",
       "629  0.484442\n",
       "0    1.030764"
      ]
     },
     "execution_count": 27,
     "metadata": {},
     "output_type": "execute_result"
    }
   ],
   "source": [
    "# test the DistanceTransformer\n",
    "\n",
    "dist_trans = DistanceTransformer()\n",
    "distance = dist_trans.fit_transform(X_train, y_train)\n",
    "distance.head()"
   ]
  },
  {
   "cell_type": "code",
   "execution_count": 63,
   "metadata": {},
   "outputs": [],
   "source": [
    "# create a TimeFeaturesEncoder\n",
    "class TimeFeaturesEncoder(BaseEstimator, TransformerMixin):\n",
    "    \"\"\"\n",
    "        Extracts the day of week (dow), the hour, the month and the year from a time column.\n",
    "        Returns a copy of the DataFrame X with only four columns: 'dow', 'hour', 'month', 'year'.\n",
    "    \"\"\"\n",
    "\n",
    "    def __init__(self, time_column):\n",
    "       # A COMPLETER\n",
    "        self.time_column = time_column\n",
    "    \n",
    "\n",
    "    def fit(self, X, y=None):\n",
    "        # A COMPLETER\n",
    "        return self\n",
    "\n",
    "    def transform(self, X, y=None):\n",
    "        # A COMPLETER \n",
    "        X_=X.copy()\n",
    "        X_[self.time_column]= pd.to_datetime(X_[self.time_column], format='%Y-%m-%d %H:%M:%S UTC')\n",
    "\n",
    "             # extract hour, day of week, month, and year\n",
    "        X_['hour'] = X_[self.time_column].dt.hour\n",
    "        X_['dow'] = X_[self.time_column].dt.dayofweek\n",
    "        X_['month'] = X_[self.time_column].dt.month\n",
    "        X_['year'] = X_[self.time_column].dt.year\n",
    "        return X_[['dow', 'hour', 'month', 'year']]"
   ]
  },
  {
   "cell_type": "code",
   "execution_count": 64,
   "metadata": {
    "scrolled": true
   },
   "outputs": [
    {
     "data": {
      "text/html": [
       "<div>\n",
       "<style scoped>\n",
       "    .dataframe tbody tr th:only-of-type {\n",
       "        vertical-align: middle;\n",
       "    }\n",
       "\n",
       "    .dataframe tbody tr th {\n",
       "        vertical-align: top;\n",
       "    }\n",
       "\n",
       "    .dataframe thead th {\n",
       "        text-align: right;\n",
       "    }\n",
       "</style>\n",
       "<table border=\"1\" class=\"dataframe\">\n",
       "  <thead>\n",
       "    <tr style=\"text-align: right;\">\n",
       "      <th></th>\n",
       "      <th>dow</th>\n",
       "      <th>hour</th>\n",
       "      <th>month</th>\n",
       "      <th>year</th>\n",
       "    </tr>\n",
       "  </thead>\n",
       "  <tbody>\n",
       "    <tr>\n",
       "      <th>703</th>\n",
       "      <td>0</td>\n",
       "      <td>11</td>\n",
       "      <td>5</td>\n",
       "      <td>2012</td>\n",
       "    </tr>\n",
       "    <tr>\n",
       "      <th>311</th>\n",
       "      <td>4</td>\n",
       "      <td>17</td>\n",
       "      <td>3</td>\n",
       "      <td>2009</td>\n",
       "    </tr>\n",
       "    <tr>\n",
       "      <th>722</th>\n",
       "      <td>6</td>\n",
       "      <td>1</td>\n",
       "      <td>10</td>\n",
       "      <td>2010</td>\n",
       "    </tr>\n",
       "    <tr>\n",
       "      <th>629</th>\n",
       "      <td>1</td>\n",
       "      <td>16</td>\n",
       "      <td>8</td>\n",
       "      <td>2014</td>\n",
       "    </tr>\n",
       "    <tr>\n",
       "      <th>0</th>\n",
       "      <td>0</td>\n",
       "      <td>17</td>\n",
       "      <td>6</td>\n",
       "      <td>2009</td>\n",
       "    </tr>\n",
       "  </tbody>\n",
       "</table>\n",
       "</div>"
      ],
      "text/plain": [
       "     dow  hour  month  year\n",
       "703    0    11      5  2012\n",
       "311    4    17      3  2009\n",
       "722    6     1     10  2010\n",
       "629    1    16      8  2014\n",
       "0      0    17      6  2009"
      ]
     },
     "execution_count": 64,
     "metadata": {},
     "output_type": "execute_result"
    }
   ],
   "source": [
    "# test the TimeFeaturesEncoder\n",
    "\n",
    "time_enc = TimeFeaturesEncoder('pickup_datetime')\n",
    "time_features = time_enc.fit_transform(X_train, y_train)\n",
    "time_features.head()"
   ]
  },
  {
   "cell_type": "markdown",
   "metadata": {},
   "source": [
    "###  Prepocessing pipeline"
   ]
  },
  {
   "cell_type": "code",
   "execution_count": 65,
   "metadata": {},
   "outputs": [],
   "source": [
    "# visualizing pipelines in HTML\n",
    "from sklearn import set_config; set_config(display='diagram')"
   ]
  },
  {
   "cell_type": "markdown",
   "metadata": {},
   "source": [
    "#### Distance pipeline\n",
    "\n",
    "Create a pipeline for distances:\n",
    "- convert the pickup and dropoff coordinates into distances with the DistanceTransformer\n",
    "- standardize these distances"
   ]
  },
  {
   "cell_type": "code",
   "execution_count": 66,
   "metadata": {},
   "outputs": [
    {
     "data": {
      "text/html": [
       "<style>#sk-ef22cc42-7f73-43a4-8e05-754eac9c6fab {color: black;background-color: white;}#sk-ef22cc42-7f73-43a4-8e05-754eac9c6fab pre{padding: 0;}#sk-ef22cc42-7f73-43a4-8e05-754eac9c6fab div.sk-toggleable {background-color: white;}#sk-ef22cc42-7f73-43a4-8e05-754eac9c6fab label.sk-toggleable__label {cursor: pointer;display: block;width: 100%;margin-bottom: 0;padding: 0.3em;box-sizing: border-box;text-align: center;}#sk-ef22cc42-7f73-43a4-8e05-754eac9c6fab label.sk-toggleable__label-arrow:before {content: \"▸\";float: left;margin-right: 0.25em;color: #696969;}#sk-ef22cc42-7f73-43a4-8e05-754eac9c6fab label.sk-toggleable__label-arrow:hover:before {color: black;}#sk-ef22cc42-7f73-43a4-8e05-754eac9c6fab div.sk-estimator:hover label.sk-toggleable__label-arrow:before {color: black;}#sk-ef22cc42-7f73-43a4-8e05-754eac9c6fab div.sk-toggleable__content {max-height: 0;max-width: 0;overflow: hidden;text-align: left;background-color: #f0f8ff;}#sk-ef22cc42-7f73-43a4-8e05-754eac9c6fab div.sk-toggleable__content pre {margin: 0.2em;color: black;border-radius: 0.25em;background-color: #f0f8ff;}#sk-ef22cc42-7f73-43a4-8e05-754eac9c6fab input.sk-toggleable__control:checked~div.sk-toggleable__content {max-height: 200px;max-width: 100%;overflow: auto;}#sk-ef22cc42-7f73-43a4-8e05-754eac9c6fab input.sk-toggleable__control:checked~label.sk-toggleable__label-arrow:before {content: \"▾\";}#sk-ef22cc42-7f73-43a4-8e05-754eac9c6fab div.sk-estimator input.sk-toggleable__control:checked~label.sk-toggleable__label {background-color: #d4ebff;}#sk-ef22cc42-7f73-43a4-8e05-754eac9c6fab div.sk-label input.sk-toggleable__control:checked~label.sk-toggleable__label {background-color: #d4ebff;}#sk-ef22cc42-7f73-43a4-8e05-754eac9c6fab input.sk-hidden--visually {border: 0;clip: rect(1px 1px 1px 1px);clip: rect(1px, 1px, 1px, 1px);height: 1px;margin: -1px;overflow: hidden;padding: 0;position: absolute;width: 1px;}#sk-ef22cc42-7f73-43a4-8e05-754eac9c6fab div.sk-estimator {font-family: monospace;background-color: #f0f8ff;border: 1px dotted black;border-radius: 0.25em;box-sizing: border-box;margin-bottom: 0.5em;}#sk-ef22cc42-7f73-43a4-8e05-754eac9c6fab div.sk-estimator:hover {background-color: #d4ebff;}#sk-ef22cc42-7f73-43a4-8e05-754eac9c6fab div.sk-parallel-item::after {content: \"\";width: 100%;border-bottom: 1px solid gray;flex-grow: 1;}#sk-ef22cc42-7f73-43a4-8e05-754eac9c6fab div.sk-label:hover label.sk-toggleable__label {background-color: #d4ebff;}#sk-ef22cc42-7f73-43a4-8e05-754eac9c6fab div.sk-serial::before {content: \"\";position: absolute;border-left: 1px solid gray;box-sizing: border-box;top: 2em;bottom: 0;left: 50%;}#sk-ef22cc42-7f73-43a4-8e05-754eac9c6fab div.sk-serial {display: flex;flex-direction: column;align-items: center;background-color: white;padding-right: 0.2em;padding-left: 0.2em;}#sk-ef22cc42-7f73-43a4-8e05-754eac9c6fab div.sk-item {z-index: 1;}#sk-ef22cc42-7f73-43a4-8e05-754eac9c6fab div.sk-parallel {display: flex;align-items: stretch;justify-content: center;background-color: white;}#sk-ef22cc42-7f73-43a4-8e05-754eac9c6fab div.sk-parallel::before {content: \"\";position: absolute;border-left: 1px solid gray;box-sizing: border-box;top: 2em;bottom: 0;left: 50%;}#sk-ef22cc42-7f73-43a4-8e05-754eac9c6fab div.sk-parallel-item {display: flex;flex-direction: column;position: relative;background-color: white;}#sk-ef22cc42-7f73-43a4-8e05-754eac9c6fab div.sk-parallel-item:first-child::after {align-self: flex-end;width: 50%;}#sk-ef22cc42-7f73-43a4-8e05-754eac9c6fab div.sk-parallel-item:last-child::after {align-self: flex-start;width: 50%;}#sk-ef22cc42-7f73-43a4-8e05-754eac9c6fab div.sk-parallel-item:only-child::after {width: 0;}#sk-ef22cc42-7f73-43a4-8e05-754eac9c6fab div.sk-dashed-wrapped {border: 1px dashed gray;margin: 0 0.4em 0.5em 0.4em;box-sizing: border-box;padding-bottom: 0.4em;background-color: white;position: relative;}#sk-ef22cc42-7f73-43a4-8e05-754eac9c6fab div.sk-label label {font-family: monospace;font-weight: bold;background-color: white;display: inline-block;line-height: 1.2em;}#sk-ef22cc42-7f73-43a4-8e05-754eac9c6fab div.sk-label-container {position: relative;z-index: 2;text-align: center;}#sk-ef22cc42-7f73-43a4-8e05-754eac9c6fab div.sk-container {/* jupyter's `normalize.less` sets `[hidden] { display: none; }` but bootstrap.min.css set `[hidden] { display: none !important; }` so we also need the `!important` here to be able to override the default hidden behavior on the sphinx rendered scikit-learn.org. See: https://github.com/scikit-learn/scikit-learn/issues/21755 */display: inline-block !important;position: relative;}#sk-ef22cc42-7f73-43a4-8e05-754eac9c6fab div.sk-text-repr-fallback {display: none;}</style><div id=\"sk-ef22cc42-7f73-43a4-8e05-754eac9c6fab\" class=\"sk-top-container\"><div class=\"sk-text-repr-fallback\"><pre>Pipeline(steps=[(&#x27;dist_trans&#x27;, DistanceTransformer()),\n",
       "                (&#x27;stdscaler&#x27;, StandardScaler())])</pre><b>Please rerun this cell to show the HTML repr or trust the notebook.</b></div><div class=\"sk-container\" hidden><div class=\"sk-item sk-dashed-wrapped\"><div class=\"sk-label-container\"><div class=\"sk-label sk-toggleable\"><input class=\"sk-toggleable__control sk-hidden--visually\" id=\"885e3db5-d95f-4bba-ab30-6709900a9b03\" type=\"checkbox\" ><label for=\"885e3db5-d95f-4bba-ab30-6709900a9b03\" class=\"sk-toggleable__label sk-toggleable__label-arrow\">Pipeline</label><div class=\"sk-toggleable__content\"><pre>Pipeline(steps=[(&#x27;dist_trans&#x27;, DistanceTransformer()),\n",
       "                (&#x27;stdscaler&#x27;, StandardScaler())])</pre></div></div></div><div class=\"sk-serial\"><div class=\"sk-item\"><div class=\"sk-estimator sk-toggleable\"><input class=\"sk-toggleable__control sk-hidden--visually\" id=\"0f5be365-abc1-4148-a069-acaf5571bc6f\" type=\"checkbox\" ><label for=\"0f5be365-abc1-4148-a069-acaf5571bc6f\" class=\"sk-toggleable__label sk-toggleable__label-arrow\">DistanceTransformer</label><div class=\"sk-toggleable__content\"><pre>DistanceTransformer()</pre></div></div></div><div class=\"sk-item\"><div class=\"sk-estimator sk-toggleable\"><input class=\"sk-toggleable__control sk-hidden--visually\" id=\"29193dcd-05ca-4590-9d4c-d212b128a0b1\" type=\"checkbox\" ><label for=\"29193dcd-05ca-4590-9d4c-d212b128a0b1\" class=\"sk-toggleable__label sk-toggleable__label-arrow\">StandardScaler</label><div class=\"sk-toggleable__content\"><pre>StandardScaler()</pre></div></div></div></div></div></div></div>"
      ],
      "text/plain": [
       "Pipeline(steps=[('dist_trans', DistanceTransformer()),\n",
       "                ('stdscaler', StandardScaler())])"
      ]
     },
     "execution_count": 66,
     "metadata": {},
     "output_type": "execute_result"
    }
   ],
   "source": [
    "from sklearn.pipeline import Pipeline\n",
    "from sklearn.preprocessing import StandardScaler\n",
    "\n",
    "\n",
    "# create distance pipeline dist_pipe\n",
    "dist_pip = Pipeline([('dist_trans', DistanceTransformer()),\n",
    "                ('stdscaler', StandardScaler())])\n",
    "\n",
    "# display distance pipeline\n",
    "dist_pip\n"
   ]
  },
  {
   "cell_type": "markdown",
   "metadata": {},
   "source": [
    "#### Time features pipeline\n",
    "\n",
    "Create a pipeline for time features\n",
    "- extract time features from pickup datetime with the TimeFeaturesEncoder\n",
    "- encode these categorical time features with the OneHotEncoder"
   ]
  },
  {
   "cell_type": "code",
   "execution_count": 68,
   "metadata": {},
   "outputs": [
    {
     "data": {
      "text/html": [
       "<style>#sk-4268a691-6a68-4413-995c-34c295bac1b0 {color: black;background-color: white;}#sk-4268a691-6a68-4413-995c-34c295bac1b0 pre{padding: 0;}#sk-4268a691-6a68-4413-995c-34c295bac1b0 div.sk-toggleable {background-color: white;}#sk-4268a691-6a68-4413-995c-34c295bac1b0 label.sk-toggleable__label {cursor: pointer;display: block;width: 100%;margin-bottom: 0;padding: 0.3em;box-sizing: border-box;text-align: center;}#sk-4268a691-6a68-4413-995c-34c295bac1b0 label.sk-toggleable__label-arrow:before {content: \"▸\";float: left;margin-right: 0.25em;color: #696969;}#sk-4268a691-6a68-4413-995c-34c295bac1b0 label.sk-toggleable__label-arrow:hover:before {color: black;}#sk-4268a691-6a68-4413-995c-34c295bac1b0 div.sk-estimator:hover label.sk-toggleable__label-arrow:before {color: black;}#sk-4268a691-6a68-4413-995c-34c295bac1b0 div.sk-toggleable__content {max-height: 0;max-width: 0;overflow: hidden;text-align: left;background-color: #f0f8ff;}#sk-4268a691-6a68-4413-995c-34c295bac1b0 div.sk-toggleable__content pre {margin: 0.2em;color: black;border-radius: 0.25em;background-color: #f0f8ff;}#sk-4268a691-6a68-4413-995c-34c295bac1b0 input.sk-toggleable__control:checked~div.sk-toggleable__content {max-height: 200px;max-width: 100%;overflow: auto;}#sk-4268a691-6a68-4413-995c-34c295bac1b0 input.sk-toggleable__control:checked~label.sk-toggleable__label-arrow:before {content: \"▾\";}#sk-4268a691-6a68-4413-995c-34c295bac1b0 div.sk-estimator input.sk-toggleable__control:checked~label.sk-toggleable__label {background-color: #d4ebff;}#sk-4268a691-6a68-4413-995c-34c295bac1b0 div.sk-label input.sk-toggleable__control:checked~label.sk-toggleable__label {background-color: #d4ebff;}#sk-4268a691-6a68-4413-995c-34c295bac1b0 input.sk-hidden--visually {border: 0;clip: rect(1px 1px 1px 1px);clip: rect(1px, 1px, 1px, 1px);height: 1px;margin: -1px;overflow: hidden;padding: 0;position: absolute;width: 1px;}#sk-4268a691-6a68-4413-995c-34c295bac1b0 div.sk-estimator {font-family: monospace;background-color: #f0f8ff;border: 1px dotted black;border-radius: 0.25em;box-sizing: border-box;margin-bottom: 0.5em;}#sk-4268a691-6a68-4413-995c-34c295bac1b0 div.sk-estimator:hover {background-color: #d4ebff;}#sk-4268a691-6a68-4413-995c-34c295bac1b0 div.sk-parallel-item::after {content: \"\";width: 100%;border-bottom: 1px solid gray;flex-grow: 1;}#sk-4268a691-6a68-4413-995c-34c295bac1b0 div.sk-label:hover label.sk-toggleable__label {background-color: #d4ebff;}#sk-4268a691-6a68-4413-995c-34c295bac1b0 div.sk-serial::before {content: \"\";position: absolute;border-left: 1px solid gray;box-sizing: border-box;top: 2em;bottom: 0;left: 50%;}#sk-4268a691-6a68-4413-995c-34c295bac1b0 div.sk-serial {display: flex;flex-direction: column;align-items: center;background-color: white;padding-right: 0.2em;padding-left: 0.2em;}#sk-4268a691-6a68-4413-995c-34c295bac1b0 div.sk-item {z-index: 1;}#sk-4268a691-6a68-4413-995c-34c295bac1b0 div.sk-parallel {display: flex;align-items: stretch;justify-content: center;background-color: white;}#sk-4268a691-6a68-4413-995c-34c295bac1b0 div.sk-parallel::before {content: \"\";position: absolute;border-left: 1px solid gray;box-sizing: border-box;top: 2em;bottom: 0;left: 50%;}#sk-4268a691-6a68-4413-995c-34c295bac1b0 div.sk-parallel-item {display: flex;flex-direction: column;position: relative;background-color: white;}#sk-4268a691-6a68-4413-995c-34c295bac1b0 div.sk-parallel-item:first-child::after {align-self: flex-end;width: 50%;}#sk-4268a691-6a68-4413-995c-34c295bac1b0 div.sk-parallel-item:last-child::after {align-self: flex-start;width: 50%;}#sk-4268a691-6a68-4413-995c-34c295bac1b0 div.sk-parallel-item:only-child::after {width: 0;}#sk-4268a691-6a68-4413-995c-34c295bac1b0 div.sk-dashed-wrapped {border: 1px dashed gray;margin: 0 0.4em 0.5em 0.4em;box-sizing: border-box;padding-bottom: 0.4em;background-color: white;position: relative;}#sk-4268a691-6a68-4413-995c-34c295bac1b0 div.sk-label label {font-family: monospace;font-weight: bold;background-color: white;display: inline-block;line-height: 1.2em;}#sk-4268a691-6a68-4413-995c-34c295bac1b0 div.sk-label-container {position: relative;z-index: 2;text-align: center;}#sk-4268a691-6a68-4413-995c-34c295bac1b0 div.sk-container {/* jupyter's `normalize.less` sets `[hidden] { display: none; }` but bootstrap.min.css set `[hidden] { display: none !important; }` so we also need the `!important` here to be able to override the default hidden behavior on the sphinx rendered scikit-learn.org. See: https://github.com/scikit-learn/scikit-learn/issues/21755 */display: inline-block !important;position: relative;}#sk-4268a691-6a68-4413-995c-34c295bac1b0 div.sk-text-repr-fallback {display: none;}</style><div id=\"sk-4268a691-6a68-4413-995c-34c295bac1b0\" class=\"sk-top-container\"><div class=\"sk-text-repr-fallback\"><pre>Pipeline(steps=[(&#x27;time_enc&#x27;,\n",
       "                 TimeFeaturesEncoder(time_column=&#x27;pickup_datetime&#x27;)),\n",
       "                (&#x27;ohe&#x27;, OneHotEncoder(handle_unknown=&#x27;ignore&#x27;))])</pre><b>Please rerun this cell to show the HTML repr or trust the notebook.</b></div><div class=\"sk-container\" hidden><div class=\"sk-item sk-dashed-wrapped\"><div class=\"sk-label-container\"><div class=\"sk-label sk-toggleable\"><input class=\"sk-toggleable__control sk-hidden--visually\" id=\"25af79b7-be48-4196-8f48-425ae6009efe\" type=\"checkbox\" ><label for=\"25af79b7-be48-4196-8f48-425ae6009efe\" class=\"sk-toggleable__label sk-toggleable__label-arrow\">Pipeline</label><div class=\"sk-toggleable__content\"><pre>Pipeline(steps=[(&#x27;time_enc&#x27;,\n",
       "                 TimeFeaturesEncoder(time_column=&#x27;pickup_datetime&#x27;)),\n",
       "                (&#x27;ohe&#x27;, OneHotEncoder(handle_unknown=&#x27;ignore&#x27;))])</pre></div></div></div><div class=\"sk-serial\"><div class=\"sk-item\"><div class=\"sk-estimator sk-toggleable\"><input class=\"sk-toggleable__control sk-hidden--visually\" id=\"a5728e08-78fe-4101-a911-ffcb38ef4bfc\" type=\"checkbox\" ><label for=\"a5728e08-78fe-4101-a911-ffcb38ef4bfc\" class=\"sk-toggleable__label sk-toggleable__label-arrow\">TimeFeaturesEncoder</label><div class=\"sk-toggleable__content\"><pre>TimeFeaturesEncoder(time_column=&#x27;pickup_datetime&#x27;)</pre></div></div></div><div class=\"sk-item\"><div class=\"sk-estimator sk-toggleable\"><input class=\"sk-toggleable__control sk-hidden--visually\" id=\"4b21b6ab-1a28-41fe-809a-3f410479297d\" type=\"checkbox\" ><label for=\"4b21b6ab-1a28-41fe-809a-3f410479297d\" class=\"sk-toggleable__label sk-toggleable__label-arrow\">OneHotEncoder</label><div class=\"sk-toggleable__content\"><pre>OneHotEncoder(handle_unknown=&#x27;ignore&#x27;)</pre></div></div></div></div></div></div></div>"
      ],
      "text/plain": [
       "Pipeline(steps=[('time_enc',\n",
       "                 TimeFeaturesEncoder(time_column='pickup_datetime')),\n",
       "                ('ohe', OneHotEncoder(handle_unknown='ignore'))])"
      ]
     },
     "execution_count": 68,
     "metadata": {},
     "output_type": "execute_result"
    }
   ],
   "source": [
    "from sklearn.preprocessing import OneHotEncoder\n",
    "# create time pipeline time_pipe\n",
    "time_pipe = Pipeline([('time_enc',\n",
    "                 TimeFeaturesEncoder(time_column='pickup_datetime')),\n",
    "                ('ohe', OneHotEncoder(handle_unknown='ignore'))])\n",
    "\n",
    "# display time pipeline\n",
    "time_pipe"
   ]
  },
  {
   "cell_type": "markdown",
   "metadata": {},
   "source": [
    "#### Preprocessing pipeline\n",
    "\n",
    "Wrap up the distance pipeline and the time pipeline into a preprocessing pipeline."
   ]
  },
  {
   "cell_type": "code",
   "execution_count": 71,
   "metadata": {},
   "outputs": [
    {
     "data": {
      "text/html": [
       "<style>#sk-cf738df0-acea-4015-a986-c739a7735dd5 {color: black;background-color: white;}#sk-cf738df0-acea-4015-a986-c739a7735dd5 pre{padding: 0;}#sk-cf738df0-acea-4015-a986-c739a7735dd5 div.sk-toggleable {background-color: white;}#sk-cf738df0-acea-4015-a986-c739a7735dd5 label.sk-toggleable__label {cursor: pointer;display: block;width: 100%;margin-bottom: 0;padding: 0.3em;box-sizing: border-box;text-align: center;}#sk-cf738df0-acea-4015-a986-c739a7735dd5 label.sk-toggleable__label-arrow:before {content: \"▸\";float: left;margin-right: 0.25em;color: #696969;}#sk-cf738df0-acea-4015-a986-c739a7735dd5 label.sk-toggleable__label-arrow:hover:before {color: black;}#sk-cf738df0-acea-4015-a986-c739a7735dd5 div.sk-estimator:hover label.sk-toggleable__label-arrow:before {color: black;}#sk-cf738df0-acea-4015-a986-c739a7735dd5 div.sk-toggleable__content {max-height: 0;max-width: 0;overflow: hidden;text-align: left;background-color: #f0f8ff;}#sk-cf738df0-acea-4015-a986-c739a7735dd5 div.sk-toggleable__content pre {margin: 0.2em;color: black;border-radius: 0.25em;background-color: #f0f8ff;}#sk-cf738df0-acea-4015-a986-c739a7735dd5 input.sk-toggleable__control:checked~div.sk-toggleable__content {max-height: 200px;max-width: 100%;overflow: auto;}#sk-cf738df0-acea-4015-a986-c739a7735dd5 input.sk-toggleable__control:checked~label.sk-toggleable__label-arrow:before {content: \"▾\";}#sk-cf738df0-acea-4015-a986-c739a7735dd5 div.sk-estimator input.sk-toggleable__control:checked~label.sk-toggleable__label {background-color: #d4ebff;}#sk-cf738df0-acea-4015-a986-c739a7735dd5 div.sk-label input.sk-toggleable__control:checked~label.sk-toggleable__label {background-color: #d4ebff;}#sk-cf738df0-acea-4015-a986-c739a7735dd5 input.sk-hidden--visually {border: 0;clip: rect(1px 1px 1px 1px);clip: rect(1px, 1px, 1px, 1px);height: 1px;margin: -1px;overflow: hidden;padding: 0;position: absolute;width: 1px;}#sk-cf738df0-acea-4015-a986-c739a7735dd5 div.sk-estimator {font-family: monospace;background-color: #f0f8ff;border: 1px dotted black;border-radius: 0.25em;box-sizing: border-box;margin-bottom: 0.5em;}#sk-cf738df0-acea-4015-a986-c739a7735dd5 div.sk-estimator:hover {background-color: #d4ebff;}#sk-cf738df0-acea-4015-a986-c739a7735dd5 div.sk-parallel-item::after {content: \"\";width: 100%;border-bottom: 1px solid gray;flex-grow: 1;}#sk-cf738df0-acea-4015-a986-c739a7735dd5 div.sk-label:hover label.sk-toggleable__label {background-color: #d4ebff;}#sk-cf738df0-acea-4015-a986-c739a7735dd5 div.sk-serial::before {content: \"\";position: absolute;border-left: 1px solid gray;box-sizing: border-box;top: 2em;bottom: 0;left: 50%;}#sk-cf738df0-acea-4015-a986-c739a7735dd5 div.sk-serial {display: flex;flex-direction: column;align-items: center;background-color: white;padding-right: 0.2em;padding-left: 0.2em;}#sk-cf738df0-acea-4015-a986-c739a7735dd5 div.sk-item {z-index: 1;}#sk-cf738df0-acea-4015-a986-c739a7735dd5 div.sk-parallel {display: flex;align-items: stretch;justify-content: center;background-color: white;}#sk-cf738df0-acea-4015-a986-c739a7735dd5 div.sk-parallel::before {content: \"\";position: absolute;border-left: 1px solid gray;box-sizing: border-box;top: 2em;bottom: 0;left: 50%;}#sk-cf738df0-acea-4015-a986-c739a7735dd5 div.sk-parallel-item {display: flex;flex-direction: column;position: relative;background-color: white;}#sk-cf738df0-acea-4015-a986-c739a7735dd5 div.sk-parallel-item:first-child::after {align-self: flex-end;width: 50%;}#sk-cf738df0-acea-4015-a986-c739a7735dd5 div.sk-parallel-item:last-child::after {align-self: flex-start;width: 50%;}#sk-cf738df0-acea-4015-a986-c739a7735dd5 div.sk-parallel-item:only-child::after {width: 0;}#sk-cf738df0-acea-4015-a986-c739a7735dd5 div.sk-dashed-wrapped {border: 1px dashed gray;margin: 0 0.4em 0.5em 0.4em;box-sizing: border-box;padding-bottom: 0.4em;background-color: white;position: relative;}#sk-cf738df0-acea-4015-a986-c739a7735dd5 div.sk-label label {font-family: monospace;font-weight: bold;background-color: white;display: inline-block;line-height: 1.2em;}#sk-cf738df0-acea-4015-a986-c739a7735dd5 div.sk-label-container {position: relative;z-index: 2;text-align: center;}#sk-cf738df0-acea-4015-a986-c739a7735dd5 div.sk-container {/* jupyter's `normalize.less` sets `[hidden] { display: none; }` but bootstrap.min.css set `[hidden] { display: none !important; }` so we also need the `!important` here to be able to override the default hidden behavior on the sphinx rendered scikit-learn.org. See: https://github.com/scikit-learn/scikit-learn/issues/21755 */display: inline-block !important;position: relative;}#sk-cf738df0-acea-4015-a986-c739a7735dd5 div.sk-text-repr-fallback {display: none;}</style><div id=\"sk-cf738df0-acea-4015-a986-c739a7735dd5\" class=\"sk-top-container\"><div class=\"sk-text-repr-fallback\"><pre>ColumnTransformer(transformers=[(&#x27;time&#x27;,\n",
       "                                 Pipeline(steps=[(&#x27;time_enc&#x27;,\n",
       "                                                  TimeFeaturesEncoder(time_column=&#x27;pickup_datetime&#x27;)),\n",
       "                                                 (&#x27;ohe&#x27;,\n",
       "                                                  OneHotEncoder(handle_unknown=&#x27;ignore&#x27;))]),\n",
       "                                 [&#x27;pickup_datetime&#x27;]),\n",
       "                                (&#x27;distance&#x27;,\n",
       "                                 Pipeline(steps=[(&#x27;dist_trans&#x27;,\n",
       "                                                  DistanceTransformer()),\n",
       "                                                 (&#x27;stdscaler&#x27;,\n",
       "                                                  StandardScaler())]),\n",
       "                                 [&#x27;pickup_longitude&#x27;, &#x27;pickup_latitude&#x27;,\n",
       "                                  &#x27;dropoff_longitude&#x27;, &#x27;dropoff_latitude&#x27;])])</pre><b>Please rerun this cell to show the HTML repr or trust the notebook.</b></div><div class=\"sk-container\" hidden><div class=\"sk-item sk-dashed-wrapped\"><div class=\"sk-label-container\"><div class=\"sk-label sk-toggleable\"><input class=\"sk-toggleable__control sk-hidden--visually\" id=\"e393986a-1d28-4a5e-bb89-2ef7d290a0e5\" type=\"checkbox\" ><label for=\"e393986a-1d28-4a5e-bb89-2ef7d290a0e5\" class=\"sk-toggleable__label sk-toggleable__label-arrow\">ColumnTransformer</label><div class=\"sk-toggleable__content\"><pre>ColumnTransformer(transformers=[(&#x27;time&#x27;,\n",
       "                                 Pipeline(steps=[(&#x27;time_enc&#x27;,\n",
       "                                                  TimeFeaturesEncoder(time_column=&#x27;pickup_datetime&#x27;)),\n",
       "                                                 (&#x27;ohe&#x27;,\n",
       "                                                  OneHotEncoder(handle_unknown=&#x27;ignore&#x27;))]),\n",
       "                                 [&#x27;pickup_datetime&#x27;]),\n",
       "                                (&#x27;distance&#x27;,\n",
       "                                 Pipeline(steps=[(&#x27;dist_trans&#x27;,\n",
       "                                                  DistanceTransformer()),\n",
       "                                                 (&#x27;stdscaler&#x27;,\n",
       "                                                  StandardScaler())]),\n",
       "                                 [&#x27;pickup_longitude&#x27;, &#x27;pickup_latitude&#x27;,\n",
       "                                  &#x27;dropoff_longitude&#x27;, &#x27;dropoff_latitude&#x27;])])</pre></div></div></div><div class=\"sk-parallel\"><div class=\"sk-parallel-item\"><div class=\"sk-item\"><div class=\"sk-label-container\"><div class=\"sk-label sk-toggleable\"><input class=\"sk-toggleable__control sk-hidden--visually\" id=\"70d61e2e-b8fa-4183-aa43-70afd74e1c75\" type=\"checkbox\" ><label for=\"70d61e2e-b8fa-4183-aa43-70afd74e1c75\" class=\"sk-toggleable__label sk-toggleable__label-arrow\">time</label><div class=\"sk-toggleable__content\"><pre>[&#x27;pickup_datetime&#x27;]</pre></div></div></div><div class=\"sk-serial\"><div class=\"sk-item\"><div class=\"sk-serial\"><div class=\"sk-item\"><div class=\"sk-estimator sk-toggleable\"><input class=\"sk-toggleable__control sk-hidden--visually\" id=\"30bc824b-95ec-4aa9-8b49-575be3c6cd09\" type=\"checkbox\" ><label for=\"30bc824b-95ec-4aa9-8b49-575be3c6cd09\" class=\"sk-toggleable__label sk-toggleable__label-arrow\">TimeFeaturesEncoder</label><div class=\"sk-toggleable__content\"><pre>TimeFeaturesEncoder(time_column=&#x27;pickup_datetime&#x27;)</pre></div></div></div><div class=\"sk-item\"><div class=\"sk-estimator sk-toggleable\"><input class=\"sk-toggleable__control sk-hidden--visually\" id=\"98b2f0be-f338-4da3-a896-52f98bc84409\" type=\"checkbox\" ><label for=\"98b2f0be-f338-4da3-a896-52f98bc84409\" class=\"sk-toggleable__label sk-toggleable__label-arrow\">OneHotEncoder</label><div class=\"sk-toggleable__content\"><pre>OneHotEncoder(handle_unknown=&#x27;ignore&#x27;)</pre></div></div></div></div></div></div></div></div><div class=\"sk-parallel-item\"><div class=\"sk-item\"><div class=\"sk-label-container\"><div class=\"sk-label sk-toggleable\"><input class=\"sk-toggleable__control sk-hidden--visually\" id=\"48828374-43a3-418d-a342-c6b29e5a097d\" type=\"checkbox\" ><label for=\"48828374-43a3-418d-a342-c6b29e5a097d\" class=\"sk-toggleable__label sk-toggleable__label-arrow\">distance</label><div class=\"sk-toggleable__content\"><pre>[&#x27;pickup_longitude&#x27;, &#x27;pickup_latitude&#x27;, &#x27;dropoff_longitude&#x27;, &#x27;dropoff_latitude&#x27;]</pre></div></div></div><div class=\"sk-serial\"><div class=\"sk-item\"><div class=\"sk-serial\"><div class=\"sk-item\"><div class=\"sk-estimator sk-toggleable\"><input class=\"sk-toggleable__control sk-hidden--visually\" id=\"0f742a80-1648-4c9f-b81e-71fb5e6fda33\" type=\"checkbox\" ><label for=\"0f742a80-1648-4c9f-b81e-71fb5e6fda33\" class=\"sk-toggleable__label sk-toggleable__label-arrow\">DistanceTransformer</label><div class=\"sk-toggleable__content\"><pre>DistanceTransformer()</pre></div></div></div><div class=\"sk-item\"><div class=\"sk-estimator sk-toggleable\"><input class=\"sk-toggleable__control sk-hidden--visually\" id=\"4c1d043c-30fa-45bd-ba9e-edfd751d477c\" type=\"checkbox\" ><label for=\"4c1d043c-30fa-45bd-ba9e-edfd751d477c\" class=\"sk-toggleable__label sk-toggleable__label-arrow\">StandardScaler</label><div class=\"sk-toggleable__content\"><pre>StandardScaler()</pre></div></div></div></div></div></div></div></div></div></div></div></div>"
      ],
      "text/plain": [
       "ColumnTransformer(transformers=[('time',\n",
       "                                 Pipeline(steps=[('time_enc',\n",
       "                                                  TimeFeaturesEncoder(time_column='pickup_datetime')),\n",
       "                                                 ('ohe',\n",
       "                                                  OneHotEncoder(handle_unknown='ignore'))]),\n",
       "                                 ['pickup_datetime']),\n",
       "                                ('distance',\n",
       "                                 Pipeline(steps=[('dist_trans',\n",
       "                                                  DistanceTransformer()),\n",
       "                                                 ('stdscaler',\n",
       "                                                  StandardScaler())]),\n",
       "                                 ['pickup_longitude', 'pickup_latitude',\n",
       "                                  'dropoff_longitude', 'dropoff_latitude'])])"
      ]
     },
     "execution_count": 71,
     "metadata": {},
     "output_type": "execute_result"
    }
   ],
   "source": [
    "import time\n",
    "from sklearn.compose import ColumnTransformer\n",
    "\n",
    "# create preprocessing pipeline preproc_pipe\n",
    "preproc_pipe = ColumnTransformer([\n",
    "    ('time', time_pipe, ['pickup_datetime']),\n",
    "    ('distance', dist_pip, ['pickup_longitude', 'pickup_latitude', 'dropoff_longitude', 'dropoff_latitude'])\n",
    "])\n",
    "# display preprocessing pipeline\n",
    "preproc_pipe"
   ]
  },
  {
   "cell_type": "markdown",
   "metadata": {},
   "source": [
    "### Model pipeline\n",
    "\n",
    "Create a pipeline containing the preprocessing and the regression model of your choice."
   ]
  },
  {
   "cell_type": "code",
   "execution_count": 16,
   "metadata": {},
   "outputs": [
    {
     "data": {
      "text/html": [
       "<style>#sk-82769776-5353-4ae3-a017-a67b7bae2792 {color: black;background-color: white;}#sk-82769776-5353-4ae3-a017-a67b7bae2792 pre{padding: 0;}#sk-82769776-5353-4ae3-a017-a67b7bae2792 div.sk-toggleable {background-color: white;}#sk-82769776-5353-4ae3-a017-a67b7bae2792 label.sk-toggleable__label {cursor: pointer;display: block;width: 100%;margin-bottom: 0;padding: 0.2em 0.3em;box-sizing: border-box;text-align: center;}#sk-82769776-5353-4ae3-a017-a67b7bae2792 div.sk-toggleable__content {max-height: 0;max-width: 0;overflow: hidden;text-align: left;background-color: #f0f8ff;}#sk-82769776-5353-4ae3-a017-a67b7bae2792 div.sk-toggleable__content pre {margin: 0.2em;color: black;border-radius: 0.25em;background-color: #f0f8ff;}#sk-82769776-5353-4ae3-a017-a67b7bae2792 input.sk-toggleable__control:checked~div.sk-toggleable__content {max-height: 200px;max-width: 100%;overflow: auto;}#sk-82769776-5353-4ae3-a017-a67b7bae2792 div.sk-estimator input.sk-toggleable__control:checked~label.sk-toggleable__label {background-color: #d4ebff;}#sk-82769776-5353-4ae3-a017-a67b7bae2792 div.sk-label input.sk-toggleable__control:checked~label.sk-toggleable__label {background-color: #d4ebff;}#sk-82769776-5353-4ae3-a017-a67b7bae2792 input.sk-hidden--visually {border: 0;clip: rect(1px 1px 1px 1px);clip: rect(1px, 1px, 1px, 1px);height: 1px;margin: -1px;overflow: hidden;padding: 0;position: absolute;width: 1px;}#sk-82769776-5353-4ae3-a017-a67b7bae2792 div.sk-estimator {font-family: monospace;background-color: #f0f8ff;margin: 0.25em 0.25em;border: 1px dotted black;border-radius: 0.25em;box-sizing: border-box;}#sk-82769776-5353-4ae3-a017-a67b7bae2792 div.sk-estimator:hover {background-color: #d4ebff;}#sk-82769776-5353-4ae3-a017-a67b7bae2792 div.sk-parallel-item::after {content: \"\";width: 100%;border-bottom: 1px solid gray;flex-grow: 1;}#sk-82769776-5353-4ae3-a017-a67b7bae2792 div.sk-label:hover label.sk-toggleable__label {background-color: #d4ebff;}#sk-82769776-5353-4ae3-a017-a67b7bae2792 div.sk-serial::before {content: \"\";position: absolute;border-left: 1px solid gray;box-sizing: border-box;top: 2em;bottom: 0;left: 50%;}#sk-82769776-5353-4ae3-a017-a67b7bae2792 div.sk-serial {display: flex;flex-direction: column;align-items: center;background-color: white;}#sk-82769776-5353-4ae3-a017-a67b7bae2792 div.sk-item {z-index: 1;}#sk-82769776-5353-4ae3-a017-a67b7bae2792 div.sk-parallel {display: flex;align-items: stretch;justify-content: center;background-color: white;}#sk-82769776-5353-4ae3-a017-a67b7bae2792 div.sk-parallel-item {display: flex;flex-direction: column;position: relative;background-color: white;}#sk-82769776-5353-4ae3-a017-a67b7bae2792 div.sk-parallel-item:first-child::after {align-self: flex-end;width: 50%;}#sk-82769776-5353-4ae3-a017-a67b7bae2792 div.sk-parallel-item:last-child::after {align-self: flex-start;width: 50%;}#sk-82769776-5353-4ae3-a017-a67b7bae2792 div.sk-parallel-item:only-child::after {width: 0;}#sk-82769776-5353-4ae3-a017-a67b7bae2792 div.sk-dashed-wrapped {border: 1px dashed gray;margin: 0.2em;box-sizing: border-box;padding-bottom: 0.1em;background-color: white;position: relative;}#sk-82769776-5353-4ae3-a017-a67b7bae2792 div.sk-label label {font-family: monospace;font-weight: bold;background-color: white;display: inline-block;line-height: 1.2em;}#sk-82769776-5353-4ae3-a017-a67b7bae2792 div.sk-label-container {position: relative;z-index: 2;text-align: center;}#sk-82769776-5353-4ae3-a017-a67b7bae2792 div.sk-container {display: inline-block;position: relative;}</style><div id=\"sk-82769776-5353-4ae3-a017-a67b7bae2792\" class\"sk-top-container\"><div class=\"sk-container\"><div class=\"sk-item sk-dashed-wrapped\"><div class=\"sk-label-container\"><div class=\"sk-label sk-toggleable\"><input class=\"sk-toggleable__control sk-hidden--visually\" id=\"2440100c-71b4-4375-b38d-eb9c18662817\" type=\"checkbox\" ><label class=\"sk-toggleable__label\" for=\"2440100c-71b4-4375-b38d-eb9c18662817\">Pipeline</label><div class=\"sk-toggleable__content\"><pre>Pipeline(steps=[('preproc',\n",
       "                 ColumnTransformer(transformers=[('distance',\n",
       "                                                  Pipeline(steps=[('dist_trans',\n",
       "                                                                   DistanceTransformer()),\n",
       "                                                                  ('stdscaler',\n",
       "                                                                   StandardScaler())]),\n",
       "                                                  ['pickup_latitude',\n",
       "                                                   'pickup_longitude',\n",
       "                                                   'dropoff_latitude',\n",
       "                                                   'dropoff_longitude']),\n",
       "                                                 ('time',\n",
       "                                                  Pipeline(steps=[('time_enc',\n",
       "                                                                   TimeFeaturesEncoder(time_column='pickup_datetime')),\n",
       "                                                                  ('ohe',\n",
       "                                                                   OneHotEncoder(handle_unknown='ignore'))]),\n",
       "                                                  ['pickup_datetime'])])),\n",
       "                ('linear_model', LinearRegression())])</pre></div></div></div><div class=\"sk-serial\"><div class=\"sk-item sk-dashed-wrapped\"><div class=\"sk-label-container\"><div class=\"sk-label sk-toggleable\"><input class=\"sk-toggleable__control sk-hidden--visually\" id=\"8b838261-39e8-46ea-806f-526345e69e8e\" type=\"checkbox\" ><label class=\"sk-toggleable__label\" for=\"8b838261-39e8-46ea-806f-526345e69e8e\">preproc: ColumnTransformer</label><div class=\"sk-toggleable__content\"><pre>ColumnTransformer(transformers=[('distance',\n",
       "                                 Pipeline(steps=[('dist_trans',\n",
       "                                                  DistanceTransformer()),\n",
       "                                                 ('stdscaler',\n",
       "                                                  StandardScaler())]),\n",
       "                                 ['pickup_latitude', 'pickup_longitude',\n",
       "                                  'dropoff_latitude', 'dropoff_longitude']),\n",
       "                                ('time',\n",
       "                                 Pipeline(steps=[('time_enc',\n",
       "                                                  TimeFeaturesEncoder(time_column='pickup_datetime')),\n",
       "                                                 ('ohe',\n",
       "                                                  OneHotEncoder(handle_unknown='ignore'))]),\n",
       "                                 ['pickup_datetime'])])</pre></div></div></div><div class=\"sk-parallel\"><div class=\"sk-parallel-item\"><div class=\"sk-item\"><div class=\"sk-label-container\"><div class=\"sk-label sk-toggleable\"><input class=\"sk-toggleable__control sk-hidden--visually\" id=\"6ef5bf0f-6178-4686-a89e-73cf4c864070\" type=\"checkbox\" ><label class=\"sk-toggleable__label\" for=\"6ef5bf0f-6178-4686-a89e-73cf4c864070\">distance</label><div class=\"sk-toggleable__content\"><pre>['pickup_latitude', 'pickup_longitude', 'dropoff_latitude', 'dropoff_longitude']</pre></div></div></div><div class=\"sk-serial\"><div class=\"sk-item\"><div class=\"sk-serial\"><div class=\"sk-item\"><div class=\"sk-estimator sk-toggleable\"><input class=\"sk-toggleable__control sk-hidden--visually\" id=\"3b7a3eb2-e8d2-4978-9a24-a22d7681244f\" type=\"checkbox\" ><label class=\"sk-toggleable__label\" for=\"3b7a3eb2-e8d2-4978-9a24-a22d7681244f\">DistanceTransformer</label><div class=\"sk-toggleable__content\"><pre>DistanceTransformer()</pre></div></div></div><div class=\"sk-item\"><div class=\"sk-estimator sk-toggleable\"><input class=\"sk-toggleable__control sk-hidden--visually\" id=\"d4841d8c-6f67-4990-8d14-dd296bdace2d\" type=\"checkbox\" ><label class=\"sk-toggleable__label\" for=\"d4841d8c-6f67-4990-8d14-dd296bdace2d\">StandardScaler</label><div class=\"sk-toggleable__content\"><pre>StandardScaler()</pre></div></div></div></div></div></div></div></div><div class=\"sk-parallel-item\"><div class=\"sk-item\"><div class=\"sk-label-container\"><div class=\"sk-label sk-toggleable\"><input class=\"sk-toggleable__control sk-hidden--visually\" id=\"a5454277-1f88-462b-934a-c75a8f2f017f\" type=\"checkbox\" ><label class=\"sk-toggleable__label\" for=\"a5454277-1f88-462b-934a-c75a8f2f017f\">time</label><div class=\"sk-toggleable__content\"><pre>['pickup_datetime']</pre></div></div></div><div class=\"sk-serial\"><div class=\"sk-item\"><div class=\"sk-serial\"><div class=\"sk-item\"><div class=\"sk-estimator sk-toggleable\"><input class=\"sk-toggleable__control sk-hidden--visually\" id=\"67d44b4a-4b74-409f-8f96-0269445b2745\" type=\"checkbox\" ><label class=\"sk-toggleable__label\" for=\"67d44b4a-4b74-409f-8f96-0269445b2745\">TimeFeaturesEncoder</label><div class=\"sk-toggleable__content\"><pre>TimeFeaturesEncoder(time_column='pickup_datetime')</pre></div></div></div><div class=\"sk-item\"><div class=\"sk-estimator sk-toggleable\"><input class=\"sk-toggleable__control sk-hidden--visually\" id=\"1315acf4-d657-4787-be6a-2d0e5e72910f\" type=\"checkbox\" ><label class=\"sk-toggleable__label\" for=\"1315acf4-d657-4787-be6a-2d0e5e72910f\">OneHotEncoder</label><div class=\"sk-toggleable__content\"><pre>OneHotEncoder(handle_unknown='ignore')</pre></div></div></div></div></div></div></div></div></div></div><div class=\"sk-item\"><div class=\"sk-estimator sk-toggleable\"><input class=\"sk-toggleable__control sk-hidden--visually\" id=\"74cde183-92dc-4fcb-ad95-8ea8268094b5\" type=\"checkbox\" ><label class=\"sk-toggleable__label\" for=\"74cde183-92dc-4fcb-ad95-8ea8268094b5\">LinearRegression</label><div class=\"sk-toggleable__content\"><pre>LinearRegression()</pre></div></div></div></div></div></div></div>"
      ],
      "text/plain": [
       "Pipeline(steps=[('preproc',\n",
       "                 ColumnTransformer(transformers=[('distance',\n",
       "                                                  Pipeline(steps=[('dist_trans',\n",
       "                                                                   DistanceTransformer()),\n",
       "                                                                  ('stdscaler',\n",
       "                                                                   StandardScaler())]),\n",
       "                                                  ['pickup_latitude',\n",
       "                                                   'pickup_longitude',\n",
       "                                                   'dropoff_latitude',\n",
       "                                                   'dropoff_longitude']),\n",
       "                                                 ('time',\n",
       "                                                  Pipeline(steps=[('time_enc',\n",
       "                                                                   TimeFeaturesEncoder(time_column='pickup_datetime')),\n",
       "                                                                  ('ohe',\n",
       "                                                                   OneHotEncoder(handle_unknown='ignore'))]),\n",
       "                                                  ['pickup_datetime'])])),\n",
       "                ('linear_model', LinearRegression())])"
      ]
     },
     "execution_count": 16,
     "metadata": {},
     "output_type": "execute_result"
    }
   ],
   "source": [
    "from sklearn.linear_model import LinearRegression\n",
    "\n",
    "# Add the model of your choice to the pipeline nammed pipe\n",
    "\n",
    "# display the pipeline with model\n"
   ]
  },
  {
   "cell_type": "markdown",
   "metadata": {},
   "source": [
    "### Training and performance"
   ]
  },
  {
   "cell_type": "markdown",
   "metadata": {},
   "source": [
    "Train the pipelined model and compute the prediction on the test set:"
   ]
  },
  {
   "cell_type": "code",
   "execution_count": 17,
   "metadata": {},
   "outputs": [],
   "source": [
    "# train the pipelined model\n",
    "\n",
    "\n",
    "# compute y_pred on the test set\n"
   ]
  },
  {
   "cell_type": "markdown",
   "metadata": {},
   "source": [
    "Use the RMSE to evaluate the performance of the model:"
   ]
  },
  {
   "cell_type": "code",
   "execution_count": 18,
   "metadata": {},
   "outputs": [],
   "source": [
    "def compute_rmse(y_pred, y_true):\n",
    "    \n",
    "    return # A COMPLETER"
   ]
  },
  {
   "cell_type": "code",
   "execution_count": 19,
   "metadata": {
    "scrolled": true
   },
   "outputs": [
    {
     "data": {
      "text/plain": [
       "10.175329127383847"
      ]
     },
     "execution_count": 19,
     "metadata": {},
     "output_type": "execute_result"
    }
   ],
   "source": [
    "# call compute_rmse\n",
    "compute_rmse(y_pred, y_test)"
   ]
  },
  {
   "cell_type": "markdown",
   "metadata": {},
   "source": [
    "## Complete the workflow with a pipeline"
   ]
  },
  {
   "cell_type": "markdown",
   "metadata": {},
   "source": [
    "Here we will implement the whole workflow for our Taxifare kaggle challenge.\n",
    "\n",
    "For that we will refactor the code in functions for more clarity.\n",
    "\n",
    "Implement the following functions:\n",
    "- `get_data()` to fetch the data \n",
    "- `clean_data()` to clean the data\n",
    "- `get_pipeline()` to get the pipeline defined earlier\n",
    "- `train()` to train our model\n",
    "- `evaluate()` to evaluate our model on test data"
   ]
  },
  {
   "cell_type": "code",
   "execution_count": 25,
   "metadata": {},
   "outputs": [],
   "source": [
    "# implement get_data() function\n",
    "def get_data(nrows=10000):\n",
    "    '''returns a DataFrame with nrows from s3 bucket'''\n",
    "    # A COMPLETER\n",
    "    return df"
   ]
  },
  {
   "cell_type": "code",
   "execution_count": 26,
   "metadata": {},
   "outputs": [],
   "source": [
    "# implement clean_data() function\n",
    "def clean_data(df, test=False):\n",
    "    '''returns a DataFrame without outliers and missing values'''\n",
    "    # A COMPLETER\n",
    "    return df"
   ]
  },
  {
   "cell_type": "code",
   "execution_count": 27,
   "metadata": {},
   "outputs": [],
   "source": [
    "# implement set_pipeline() function\n",
    "def set_pipeline():\n",
    "    '''returns a pipelined model'''\n",
    "     # A  COMPLETER\n",
    "    return pipe"
   ]
  },
  {
   "cell_type": "code",
   "execution_count": 28,
   "metadata": {},
   "outputs": [],
   "source": [
    "# implement train() function\n",
    "def train(X_train, y_train, pipeline):\n",
    "    '''returns a trained pipelined model'''\n",
    "   # A COMPLETER\n",
    "    return pipeline"
   ]
  },
  {
   "cell_type": "code",
   "execution_count": 29,
   "metadata": {},
   "outputs": [],
   "source": [
    "# implement evaluate() function\n",
    "def evaluate(X_test, y_test, pipeline):\n",
    "    '''returns the value of the RMSE'''\n",
    "    # A COMPLETER\n",
    "    print(rmse)\n",
    "    return rmse"
   ]
  },
  {
   "cell_type": "markdown",
   "metadata": {},
   "source": [
    "### Test the complete worflow\n",
    "\n",
    "Use the above functions to test the complete workflow."
   ]
  },
  {
   "cell_type": "code",
   "execution_count": 30,
   "metadata": {},
   "outputs": [
    {
     "name": "stdout",
     "output_type": "stream",
     "text": [
      "9.396264153241109\n"
     ]
    }
   ],
   "source": [
    "# store the data in a DataFrame\n",
    "df = get_data()\n",
    "\n",
    "# set X and y\n",
    "y = df[\"fare_amount\"]\n",
    "X = df.drop(\"fare_amount\", axis=1)\n",
    "\n",
    "# hold out\n",
    "X_train, X_val, y_train, y_val = train_test_split(X, y, test_size=0.15)\n",
    "\n",
    "# build pipeline\n",
    "pipeline = set_pipeline()\n",
    "\n",
    "# train the pipeline\n",
    "train(X_train, y_train, pipeline)\n",
    "\n",
    "# evaluate the pipeline\n",
    "rmse = evaluate(X_val, y_val, pipeline)"
   ]
  },
  {
   "cell_type": "markdown",
   "metadata": {},
   "source": [
    "### Congrats!\n",
    "\n",
    "Now we are ready to convert this complete workflow into a packaged code 🚀"
   ]
  }
 ],
 "metadata": {
  "challengify": {
   "keep_output": true
  },
  "kernelspec": {
   "display_name": "Python 3 (ipykernel)",
   "language": "python",
   "name": "python3"
  },
  "language_info": {
   "codemirror_mode": {
    "name": "ipython",
    "version": 3
   },
   "file_extension": ".py",
   "mimetype": "text/x-python",
   "name": "python",
   "nbconvert_exporter": "python",
   "pygments_lexer": "ipython3",
   "version": "3.9.12"
  },
  "pycharm": {
   "stem_cell": {
    "cell_type": "raw",
    "metadata": {
     "collapsed": false
    },
    "source": []
   }
  },
  "toc": {
   "base_numbering": 1,
   "nav_menu": {},
   "number_sections": false,
   "sideBar": true,
   "skip_h1_title": false,
   "title_cell": "Table of Contents",
   "title_sidebar": "Contents",
   "toc_cell": false,
   "toc_position": {},
   "toc_section_display": true,
   "toc_window_display": true
  },
  "varInspector": {
   "cols": {
    "lenName": 16,
    "lenType": 16,
    "lenVar": 40
   },
   "kernels_config": {
    "python": {
     "delete_cmd_postfix": "",
     "delete_cmd_prefix": "del ",
     "library": "var_list.py",
     "varRefreshCmd": "print(var_dic_list())"
    },
    "r": {
     "delete_cmd_postfix": ") ",
     "delete_cmd_prefix": "rm(",
     "library": "var_list.r",
     "varRefreshCmd": "cat(var_dic_list()) "
    }
   },
   "position": {
    "height": "244px",
    "left": "1550px",
    "right": "20px",
    "top": "120px",
    "width": "350px"
   },
   "types_to_exclude": [
    "module",
    "function",
    "builtin_function_or_method",
    "instance",
    "_Feature"
   ],
   "window_display": false
  }
 },
 "nbformat": 4,
 "nbformat_minor": 4
}
